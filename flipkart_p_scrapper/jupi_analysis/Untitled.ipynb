{
 "cells": [
  {
   "cell_type": "code",
   "execution_count": 5,
   "id": "genuine-testimony",
   "metadata": {},
   "outputs": [],
   "source": [
    "from urllib.request import urlopen\n",
    "from bs4 import BeautifulSoup as soup\n",
    "import numpy as np\n",
    "data = {'imgs':[],'ratings':[],'ratings_volume':[],'product_urls':[],'price_l':[]}\n"
   ]
  },
  {
   "cell_type": "code",
   "execution_count": 67,
   "id": "female-judge",
   "metadata": {},
   "outputs": [],
   "source": [
    "cnt = 0\n",
    "n = 3 # pages scraping\n",
    "url = 'https://www.flipkart.com/search?q=saree&page=1'\n",
    "d = {'imgs':[],'ratings':[],'ratings_volume':[],'product_urls':[],'price_l':[]}\n",
    "def scrap(url):    \n",
    "    global cnt\n",
    "    response = urlopen(url)\n",
    "\n",
    "    data = response.read()\n",
    "    s_data = soup(data,'html.parser')\n",
    "    s_obj = s_data.findAll('div',{'class':'_13oc-S'})\n",
    "    s = s_obj[0]\n",
    "    c = s.find_all(\"div\")\n",
    "    p = c[1]['class'][1]\n",
    "    s_obj = s_data.findAll('div',{'class':f\"{p}\"})\n",
    "    return s_obj"
   ]
  },
  {
   "cell_type": "code",
   "execution_count": 68,
   "id": "dutch-selection",
   "metadata": {},
   "outputs": [],
   "source": [
    "x = scrap(url)"
   ]
  },
  {
   "cell_type": "code",
   "execution_count": 72,
   "id": "documentary-visiting",
   "metadata": {},
   "outputs": [
    {
     "name": "stdout",
     "output_type": "stream",
     "text": [
      "/trijal-fab-embroidered-bollywood-silk-blend-saree/p/itm4d9ba6f222a08?pid=SARFSFNFGAJSN9DE&lid=LSTSARFSFNFGAJSN9DEZ2HDPY&marketplace=FLIPKART&q=saree&store=clo%2F8on%2Fzpd%2F9og&srno=s_1_1&otracker=search&fm=organic&iid=en_mwR6I5j7w0dm52fnj9Go03%2Bgo%2Fb20Mmct6pgaA5u6kWdrbFj2PZ21LWwNLtYM3dCqyDMxz%2FvTwitLfUinQ0BKQ%3D%3D&ppt=None&ppn=None&ssid=n56i6t66sg0000001623561338638&qH=3a4bc565a4835306\n"
     ]
    }
   ],
   "source": [
    "print(x[0].a.attrs['href'])"
   ]
  },
  {
   "cell_type": "code",
   "execution_count": 35,
   "id": "crude-superior",
   "metadata": {},
   "outputs": [],
   "source": [
    "import pandas as pd\n",
    "df = pd.DataFrame(d)"
   ]
  },
  {
   "cell_type": "code",
   "execution_count": 5,
   "id": "defined-institution",
   "metadata": {},
   "outputs": [
    {
     "data": {
      "text/html": [
       "<div>\n",
       "<style scoped>\n",
       "    .dataframe tbody tr th:only-of-type {\n",
       "        vertical-align: middle;\n",
       "    }\n",
       "\n",
       "    .dataframe tbody tr th {\n",
       "        vertical-align: top;\n",
       "    }\n",
       "\n",
       "    .dataframe thead th {\n",
       "        text-align: right;\n",
       "    }\n",
       "</style>\n",
       "<table border=\"1\" class=\"dataframe\">\n",
       "  <thead>\n",
       "    <tr style=\"text-align: right;\">\n",
       "      <th></th>\n",
       "      <th>imgs</th>\n",
       "      <th>ratings</th>\n",
       "      <th>ratings_volume</th>\n",
       "      <th>product_urls</th>\n",
       "      <th>price_l</th>\n",
       "    </tr>\n",
       "  </thead>\n",
       "  <tbody>\n",
       "    <tr>\n",
       "      <th>0</th>\n",
       "      <td>https://rukminim1.flixcart.com/image/612/612/j...</td>\n",
       "      <td>4.2</td>\n",
       "      <td>45</td>\n",
       "      <td>/parker-vector-standard-ct-fountain-pen-card-h...</td>\n",
       "      <td>425</td>\n",
       "    </tr>\n",
       "    <tr>\n",
       "      <th>1</th>\n",
       "      <td>https://rukminim1.flixcart.com/image/612/612/k...</td>\n",
       "      <td>4.2</td>\n",
       "      <td>72</td>\n",
       "      <td>/luxor-finewriter-fineliner-pen/p/itm7484dfe25...</td>\n",
       "      <td>100</td>\n",
       "    </tr>\n",
       "    <tr>\n",
       "      <th>2</th>\n",
       "      <td>https://rukminim1.flixcart.com/image/612/612/k...</td>\n",
       "      <td>4.4</td>\n",
       "      <td>3,16</td>\n",
       "      <td>/cello-maxriter-ball-pen/p/itm37f836d5335c5?pi...</td>\n",
       "      <td>192</td>\n",
       "    </tr>\n",
       "    <tr>\n",
       "      <th>3</th>\n",
       "      <td>https://rukminim1.flixcart.com/image/612/612/j...</td>\n",
       "      <td>4.4</td>\n",
       "      <td>44,85</td>\n",
       "      <td>/cello-butterflow-simply-ball-pen-jar/p/itmf8a...</td>\n",
       "      <td>192</td>\n",
       "    </tr>\n",
       "    <tr>\n",
       "      <th>4</th>\n",
       "      <td>https://rukminim1.flixcart.com/image/612/612/k...</td>\n",
       "      <td>4.6</td>\n",
       "      <td>3,08</td>\n",
       "      <td>/hauser-xo-ball-pen/p/itmaacac4197601c?pid=PEN...</td>\n",
       "      <td>376</td>\n",
       "    </tr>\n",
       "  </tbody>\n",
       "</table>\n",
       "</div>"
      ],
      "text/plain": [
       "                                                imgs ratings ratings_volume  \\\n",
       "0  https://rukminim1.flixcart.com/image/612/612/j...     4.2             45   \n",
       "1  https://rukminim1.flixcart.com/image/612/612/k...     4.2             72   \n",
       "2  https://rukminim1.flixcart.com/image/612/612/k...     4.4           3,16   \n",
       "3  https://rukminim1.flixcart.com/image/612/612/j...     4.4          44,85   \n",
       "4  https://rukminim1.flixcart.com/image/612/612/k...     4.6           3,08   \n",
       "\n",
       "                                        product_urls price_l  \n",
       "0  /parker-vector-standard-ct-fountain-pen-card-h...     425  \n",
       "1  /luxor-finewriter-fineliner-pen/p/itm7484dfe25...     100  \n",
       "2  /cello-maxriter-ball-pen/p/itm37f836d5335c5?pi...     192  \n",
       "3  /cello-butterflow-simply-ball-pen-jar/p/itmf8a...     192  \n",
       "4  /hauser-xo-ball-pen/p/itmaacac4197601c?pid=PEN...     376  "
      ]
     },
     "execution_count": 5,
     "metadata": {},
     "output_type": "execute_result"
    }
   ],
   "source": [
    "df.head()"
   ]
  },
  {
   "cell_type": "code",
   "execution_count": 6,
   "id": "toxic-equation",
   "metadata": {},
   "outputs": [],
   "source": [
    "df['price_l'] = df['price_l'].replace(',','', regex=True)\n",
    "df['ratings_volume'] = df['ratings_volume'].replace(',','',regex=True)"
   ]
  },
  {
   "cell_type": "code",
   "execution_count": 7,
   "id": "improved-distinction",
   "metadata": {},
   "outputs": [
    {
     "data": {
      "text/html": [
       "<div>\n",
       "<style scoped>\n",
       "    .dataframe tbody tr th:only-of-type {\n",
       "        vertical-align: middle;\n",
       "    }\n",
       "\n",
       "    .dataframe tbody tr th {\n",
       "        vertical-align: top;\n",
       "    }\n",
       "\n",
       "    .dataframe thead th {\n",
       "        text-align: right;\n",
       "    }\n",
       "</style>\n",
       "<table border=\"1\" class=\"dataframe\">\n",
       "  <thead>\n",
       "    <tr style=\"text-align: right;\">\n",
       "      <th></th>\n",
       "      <th>imgs</th>\n",
       "      <th>ratings</th>\n",
       "      <th>ratings_volume</th>\n",
       "      <th>product_urls</th>\n",
       "      <th>price_l</th>\n",
       "    </tr>\n",
       "  </thead>\n",
       "  <tbody>\n",
       "    <tr>\n",
       "      <th>0</th>\n",
       "      <td>https://rukminim1.flixcart.com/image/612/612/j...</td>\n",
       "      <td>4.2</td>\n",
       "      <td>45</td>\n",
       "      <td>/parker-vector-standard-ct-fountain-pen-card-h...</td>\n",
       "      <td>425</td>\n",
       "    </tr>\n",
       "    <tr>\n",
       "      <th>1</th>\n",
       "      <td>https://rukminim1.flixcart.com/image/612/612/k...</td>\n",
       "      <td>4.2</td>\n",
       "      <td>72</td>\n",
       "      <td>/luxor-finewriter-fineliner-pen/p/itm7484dfe25...</td>\n",
       "      <td>100</td>\n",
       "    </tr>\n",
       "    <tr>\n",
       "      <th>2</th>\n",
       "      <td>https://rukminim1.flixcart.com/image/612/612/k...</td>\n",
       "      <td>4.4</td>\n",
       "      <td>316</td>\n",
       "      <td>/cello-maxriter-ball-pen/p/itm37f836d5335c5?pi...</td>\n",
       "      <td>192</td>\n",
       "    </tr>\n",
       "    <tr>\n",
       "      <th>3</th>\n",
       "      <td>https://rukminim1.flixcart.com/image/612/612/j...</td>\n",
       "      <td>4.4</td>\n",
       "      <td>4485</td>\n",
       "      <td>/cello-butterflow-simply-ball-pen-jar/p/itmf8a...</td>\n",
       "      <td>192</td>\n",
       "    </tr>\n",
       "    <tr>\n",
       "      <th>4</th>\n",
       "      <td>https://rukminim1.flixcart.com/image/612/612/k...</td>\n",
       "      <td>4.6</td>\n",
       "      <td>308</td>\n",
       "      <td>/hauser-xo-ball-pen/p/itmaacac4197601c?pid=PEN...</td>\n",
       "      <td>376</td>\n",
       "    </tr>\n",
       "  </tbody>\n",
       "</table>\n",
       "</div>"
      ],
      "text/plain": [
       "                                                imgs ratings ratings_volume  \\\n",
       "0  https://rukminim1.flixcart.com/image/612/612/j...     4.2             45   \n",
       "1  https://rukminim1.flixcart.com/image/612/612/k...     4.2             72   \n",
       "2  https://rukminim1.flixcart.com/image/612/612/k...     4.4            316   \n",
       "3  https://rukminim1.flixcart.com/image/612/612/j...     4.4           4485   \n",
       "4  https://rukminim1.flixcart.com/image/612/612/k...     4.6            308   \n",
       "\n",
       "                                        product_urls price_l  \n",
       "0  /parker-vector-standard-ct-fountain-pen-card-h...     425  \n",
       "1  /luxor-finewriter-fineliner-pen/p/itm7484dfe25...     100  \n",
       "2  /cello-maxriter-ball-pen/p/itm37f836d5335c5?pi...     192  \n",
       "3  /cello-butterflow-simply-ball-pen-jar/p/itmf8a...     192  \n",
       "4  /hauser-xo-ball-pen/p/itmaacac4197601c?pid=PEN...     376  "
      ]
     },
     "execution_count": 7,
     "metadata": {},
     "output_type": "execute_result"
    }
   ],
   "source": [
    "df.head()"
   ]
  },
  {
   "cell_type": "code",
   "execution_count": 8,
   "id": "unlikely-accident",
   "metadata": {},
   "outputs": [],
   "source": [
    "rating = 5\n",
    "no_ratings = 300"
   ]
  },
  {
   "cell_type": "code",
   "execution_count": 9,
   "id": "republican-economy",
   "metadata": {},
   "outputs": [],
   "source": [
    "df.sort_values(\"ratings\",axis=0,ascending = False,inplace=True)"
   ]
  },
  {
   "cell_type": "code",
   "execution_count": 10,
   "id": "fossil-circuit",
   "metadata": {},
   "outputs": [
    {
     "data": {
      "text/html": [
       "<div>\n",
       "<style scoped>\n",
       "    .dataframe tbody tr th:only-of-type {\n",
       "        vertical-align: middle;\n",
       "    }\n",
       "\n",
       "    .dataframe tbody tr th {\n",
       "        vertical-align: top;\n",
       "    }\n",
       "\n",
       "    .dataframe thead th {\n",
       "        text-align: right;\n",
       "    }\n",
       "</style>\n",
       "<table border=\"1\" class=\"dataframe\">\n",
       "  <thead>\n",
       "    <tr style=\"text-align: right;\">\n",
       "      <th></th>\n",
       "      <th>imgs</th>\n",
       "      <th>ratings</th>\n",
       "      <th>ratings_volume</th>\n",
       "      <th>product_urls</th>\n",
       "      <th>price_l</th>\n",
       "    </tr>\n",
       "  </thead>\n",
       "  <tbody>\n",
       "    <tr>\n",
       "      <th>54</th>\n",
       "      <td>https://rukminim1.flixcart.com/image/612/612/k...</td>\n",
       "      <td>4.6</td>\n",
       "      <td>11</td>\n",
       "      <td>/pilot-v5-blue-5-roller-ball-pen/p/itm745be7d9...</td>\n",
       "      <td>256</td>\n",
       "    </tr>\n",
       "    <tr>\n",
       "      <th>109</th>\n",
       "      <td>https://rukminim1.flixcart.com/image/612/612/k...</td>\n",
       "      <td>4.6</td>\n",
       "      <td>138</td>\n",
       "      <td>/classmate-octane-gel-pen/p/itm2952d3ab15195?p...</td>\n",
       "      <td>237</td>\n",
       "    </tr>\n",
       "    <tr>\n",
       "      <th>4</th>\n",
       "      <td>https://rukminim1.flixcart.com/image/612/612/k...</td>\n",
       "      <td>4.6</td>\n",
       "      <td>308</td>\n",
       "      <td>/hauser-xo-ball-pen/p/itmaacac4197601c?pid=PEN...</td>\n",
       "      <td>376</td>\n",
       "    </tr>\n",
       "    <tr>\n",
       "      <th>81</th>\n",
       "      <td>https://rukminim1.flixcart.com/image/612/612/k...</td>\n",
       "      <td>4.5</td>\n",
       "      <td>74</td>\n",
       "      <td>/flair-marathon-jar-ball-pen/p/itme3291fe073b6...</td>\n",
       "      <td>269</td>\n",
       "    </tr>\n",
       "    <tr>\n",
       "      <th>20</th>\n",
       "      <td>https://rukminim1.flixcart.com/image/612/612/k...</td>\n",
       "      <td>4.5</td>\n",
       "      <td>932</td>\n",
       "      <td>/luxor-uniflo-ball-pen/p/itmd3fdfde440836?pid=...</td>\n",
       "      <td>153</td>\n",
       "    </tr>\n",
       "  </tbody>\n",
       "</table>\n",
       "</div>"
      ],
      "text/plain": [
       "                                                  imgs ratings ratings_volume  \\\n",
       "54   https://rukminim1.flixcart.com/image/612/612/k...     4.6             11   \n",
       "109  https://rukminim1.flixcart.com/image/612/612/k...     4.6            138   \n",
       "4    https://rukminim1.flixcart.com/image/612/612/k...     4.6            308   \n",
       "81   https://rukminim1.flixcart.com/image/612/612/k...     4.5             74   \n",
       "20   https://rukminim1.flixcart.com/image/612/612/k...     4.5            932   \n",
       "\n",
       "                                          product_urls price_l  \n",
       "54   /pilot-v5-blue-5-roller-ball-pen/p/itm745be7d9...     256  \n",
       "109  /classmate-octane-gel-pen/p/itm2952d3ab15195?p...     237  \n",
       "4    /hauser-xo-ball-pen/p/itmaacac4197601c?pid=PEN...     376  \n",
       "81   /flair-marathon-jar-ball-pen/p/itme3291fe073b6...     269  \n",
       "20   /luxor-uniflo-ball-pen/p/itmd3fdfde440836?pid=...     153  "
      ]
     },
     "execution_count": 10,
     "metadata": {},
     "output_type": "execute_result"
    }
   ],
   "source": [
    "df.head()"
   ]
  },
  {
   "cell_type": "code",
   "execution_count": 11,
   "id": "freelance-separation",
   "metadata": {},
   "outputs": [
    {
     "data": {
      "text/html": [
       "<div>\n",
       "<style scoped>\n",
       "    .dataframe tbody tr th:only-of-type {\n",
       "        vertical-align: middle;\n",
       "    }\n",
       "\n",
       "    .dataframe tbody tr th {\n",
       "        vertical-align: top;\n",
       "    }\n",
       "\n",
       "    .dataframe thead th {\n",
       "        text-align: right;\n",
       "    }\n",
       "</style>\n",
       "<table border=\"1\" class=\"dataframe\">\n",
       "  <thead>\n",
       "    <tr style=\"text-align: right;\">\n",
       "      <th></th>\n",
       "      <th>imgs</th>\n",
       "      <th>ratings</th>\n",
       "      <th>ratings_volume</th>\n",
       "      <th>product_urls</th>\n",
       "      <th>price_l</th>\n",
       "    </tr>\n",
       "  </thead>\n",
       "  <tbody>\n",
       "    <tr>\n",
       "      <th>0</th>\n",
       "      <td>https://rukminim1.flixcart.com/image/612/612/k...</td>\n",
       "      <td>4.6</td>\n",
       "      <td>11</td>\n",
       "      <td>/pilot-v5-blue-5-roller-ball-pen/p/itm745be7d9...</td>\n",
       "      <td>256</td>\n",
       "    </tr>\n",
       "    <tr>\n",
       "      <th>1</th>\n",
       "      <td>https://rukminim1.flixcart.com/image/612/612/k...</td>\n",
       "      <td>4.6</td>\n",
       "      <td>138</td>\n",
       "      <td>/classmate-octane-gel-pen/p/itm2952d3ab15195?p...</td>\n",
       "      <td>237</td>\n",
       "    </tr>\n",
       "    <tr>\n",
       "      <th>2</th>\n",
       "      <td>https://rukminim1.flixcart.com/image/612/612/k...</td>\n",
       "      <td>4.6</td>\n",
       "      <td>308</td>\n",
       "      <td>/hauser-xo-ball-pen/p/itmaacac4197601c?pid=PEN...</td>\n",
       "      <td>376</td>\n",
       "    </tr>\n",
       "    <tr>\n",
       "      <th>3</th>\n",
       "      <td>https://rukminim1.flixcart.com/image/612/612/k...</td>\n",
       "      <td>4.5</td>\n",
       "      <td>74</td>\n",
       "      <td>/flair-marathon-jar-ball-pen/p/itme3291fe073b6...</td>\n",
       "      <td>269</td>\n",
       "    </tr>\n",
       "    <tr>\n",
       "      <th>4</th>\n",
       "      <td>https://rukminim1.flixcart.com/image/612/612/k...</td>\n",
       "      <td>4.5</td>\n",
       "      <td>932</td>\n",
       "      <td>/luxor-uniflo-ball-pen/p/itmd3fdfde440836?pid=...</td>\n",
       "      <td>153</td>\n",
       "    </tr>\n",
       "  </tbody>\n",
       "</table>\n",
       "</div>"
      ],
      "text/plain": [
       "                                                imgs ratings ratings_volume  \\\n",
       "0  https://rukminim1.flixcart.com/image/612/612/k...     4.6             11   \n",
       "1  https://rukminim1.flixcart.com/image/612/612/k...     4.6            138   \n",
       "2  https://rukminim1.flixcart.com/image/612/612/k...     4.6            308   \n",
       "3  https://rukminim1.flixcart.com/image/612/612/k...     4.5             74   \n",
       "4  https://rukminim1.flixcart.com/image/612/612/k...     4.5            932   \n",
       "\n",
       "                                        product_urls price_l  \n",
       "0  /pilot-v5-blue-5-roller-ball-pen/p/itm745be7d9...     256  \n",
       "1  /classmate-octane-gel-pen/p/itm2952d3ab15195?p...     237  \n",
       "2  /hauser-xo-ball-pen/p/itmaacac4197601c?pid=PEN...     376  \n",
       "3  /flair-marathon-jar-ball-pen/p/itme3291fe073b6...     269  \n",
       "4  /luxor-uniflo-ball-pen/p/itmd3fdfde440836?pid=...     153  "
      ]
     },
     "execution_count": 11,
     "metadata": {},
     "output_type": "execute_result"
    }
   ],
   "source": [
    "df.reset_index(drop=True, inplace=True)\n",
    "\n",
    "df.head()"
   ]
  },
  {
   "cell_type": "code",
   "execution_count": 13,
   "id": "devoted-cycling",
   "metadata": {},
   "outputs": [
    {
     "data": {
      "image/png": "[encoded data removed]",
      "text/plain": [
       "<Figure size 432x288 with 1 Axes>"
      ]
     },
     "metadata": {
      "needs_background": "light"
     },
     "output_type": "display_data"
    }
   ],
   "source": [
    "import matplotlib.pyplot as plt\n",
    "plt.hist(df['ratings'],bins = 10)\n",
    "plt.show()"
   ]
  },
  {
   "cell_type": "code",
   "execution_count": 14,
   "id": "completed-composer",
   "metadata": {},
   "outputs": [],
   "source": [
    "df['ratings'] = pd.to_numeric(df['ratings'])\n",
    "df['ratings_volume'] = pd.to_numeric(df['ratings_volume'])"
   ]
  },
  {
   "cell_type": "code",
   "execution_count": 17,
   "id": "phantom-example",
   "metadata": {},
   "outputs": [
    {
     "data": {
      "text/html": [
       "<div>\n",
       "<style scoped>\n",
       "    .dataframe tbody tr th:only-of-type {\n",
       "        vertical-align: middle;\n",
       "    }\n",
       "\n",
       "    .dataframe tbody tr th {\n",
       "        vertical-align: top;\n",
       "    }\n",
       "\n",
       "    .dataframe thead th {\n",
       "        text-align: right;\n",
       "    }\n",
       "</style>\n",
       "<table border=\"1\" class=\"dataframe\">\n",
       "  <thead>\n",
       "    <tr style=\"text-align: right;\">\n",
       "      <th></th>\n",
       "      <th>imgs</th>\n",
       "      <th>ratings</th>\n",
       "      <th>ratings_volume</th>\n",
       "      <th>product_urls</th>\n",
       "      <th>price_l</th>\n",
       "    </tr>\n",
       "  </thead>\n",
       "  <tbody>\n",
       "    <tr>\n",
       "      <th>5</th>\n",
       "      <td>https://rukminim1.flixcart.com/image/612/612/j...</td>\n",
       "      <td>4.5</td>\n",
       "      <td>1170.0</td>\n",
       "      <td>/pilot-v5-pack-3-liquid-ink-rollerball-pen/p/i...</td>\n",
       "      <td>143</td>\n",
       "    </tr>\n",
       "    <tr>\n",
       "      <th>17</th>\n",
       "      <td>https://rukminim1.flixcart.com/image/612/612/j...</td>\n",
       "      <td>4.5</td>\n",
       "      <td>2810.0</td>\n",
       "      <td>/cello-butterflow-blue-ball-pen/p/itm54728fc4d...</td>\n",
       "      <td>95</td>\n",
       "    </tr>\n",
       "    <tr>\n",
       "      <th>18</th>\n",
       "      <td>https://rukminim1.flixcart.com/image/612/612/k...</td>\n",
       "      <td>4.5</td>\n",
       "      <td>2581.0</td>\n",
       "      <td>/classmate-octane-colourburst-gel-pen/p/itmfgf...</td>\n",
       "      <td>99</td>\n",
       "    </tr>\n",
       "    <tr>\n",
       "      <th>28</th>\n",
       "      <td>https://rukminim1.flixcart.com/image/612/612/k...</td>\n",
       "      <td>4.4</td>\n",
       "      <td>1364.0</td>\n",
       "      <td>/nataraj-classic-ball-pen/p/itm5d15346244840?p...</td>\n",
       "      <td>59</td>\n",
       "    </tr>\n",
       "    <tr>\n",
       "      <th>32</th>\n",
       "      <td>https://rukminim1.flixcart.com/image/612/612/k...</td>\n",
       "      <td>4.4</td>\n",
       "      <td>1767.0</td>\n",
       "      <td>/pilot-hi-techpoint-05-super-value-pack-3-blue...</td>\n",
       "      <td>109</td>\n",
       "    </tr>\n",
       "    <tr>\n",
       "      <th>43</th>\n",
       "      <td>https://rukminim1.flixcart.com/image/612/612/j...</td>\n",
       "      <td>4.4</td>\n",
       "      <td>4485.0</td>\n",
       "      <td>/cello-butterflow-simply-ball-pen-jar/p/itmf8a...</td>\n",
       "      <td>192</td>\n",
       "    </tr>\n",
       "    <tr>\n",
       "      <th>49</th>\n",
       "      <td>https://rukminim1.flixcart.com/image/612/612/k...</td>\n",
       "      <td>4.4</td>\n",
       "      <td>1498.0</td>\n",
       "      <td>/cello-signature-carbon-ball-pen/p/itmf8ab8k6h...</td>\n",
       "      <td>142</td>\n",
       "    </tr>\n",
       "    <tr>\n",
       "      <th>52</th>\n",
       "      <td>https://rukminim1.flixcart.com/image/612/612/j...</td>\n",
       "      <td>4.4</td>\n",
       "      <td>1478.0</td>\n",
       "      <td>/cello-technotip-ball-pen/p/itmfe8mfpncp4tjg?p...</td>\n",
       "      <td>160</td>\n",
       "    </tr>\n",
       "    <tr>\n",
       "      <th>72</th>\n",
       "      <td>https://rukminim1.flixcart.com/image/612/612/j...</td>\n",
       "      <td>4.3</td>\n",
       "      <td>4310.0</td>\n",
       "      <td>/cello-finegrip-jar-blue-ball-pen/p/itm5ea0b4d...</td>\n",
       "      <td>140</td>\n",
       "    </tr>\n",
       "  </tbody>\n",
       "</table>\n",
       "</div>"
      ],
      "text/plain": [
       "                                                 imgs  ratings  \\\n",
       "5   https://rukminim1.flixcart.com/image/612/612/j...      4.5   \n",
       "17  https://rukminim1.flixcart.com/image/612/612/j...      4.5   \n",
       "18  https://rukminim1.flixcart.com/image/612/612/k...      4.5   \n",
       "28  https://rukminim1.flixcart.com/image/612/612/k...      4.4   \n",
       "32  https://rukminim1.flixcart.com/image/612/612/k...      4.4   \n",
       "43  https://rukminim1.flixcart.com/image/612/612/j...      4.4   \n",
       "49  https://rukminim1.flixcart.com/image/612/612/k...      4.4   \n",
       "52  https://rukminim1.flixcart.com/image/612/612/j...      4.4   \n",
       "72  https://rukminim1.flixcart.com/image/612/612/j...      4.3   \n",
       "\n",
       "    ratings_volume                                       product_urls price_l  \n",
       "5           1170.0  /pilot-v5-pack-3-liquid-ink-rollerball-pen/p/i...     143  \n",
       "17          2810.0  /cello-butterflow-blue-ball-pen/p/itm54728fc4d...      95  \n",
       "18          2581.0  /classmate-octane-colourburst-gel-pen/p/itmfgf...      99  \n",
       "28          1364.0  /nataraj-classic-ball-pen/p/itm5d15346244840?p...      59  \n",
       "32          1767.0  /pilot-hi-techpoint-05-super-value-pack-3-blue...     109  \n",
       "43          4485.0  /cello-butterflow-simply-ball-pen-jar/p/itmf8a...     192  \n",
       "49          1498.0  /cello-signature-carbon-ball-pen/p/itmf8ab8k6h...     142  \n",
       "52          1478.0  /cello-technotip-ball-pen/p/itmfe8mfpncp4tjg?p...     160  \n",
       "72          4310.0  /cello-finegrip-jar-blue-ball-pen/p/itm5ea0b4d...     140  "
      ]
     },
     "execution_count": 17,
     "metadata": {},
     "output_type": "execute_result"
    }
   ],
   "source": [
    "# recomended Products :)\n",
    "df[df['ratings_volume']>1000].sort_values(\"ratings\",ascending=False)"
   ]
  },
  {
   "cell_type": "code",
   "execution_count": 16,
   "id": "otherwise-orange",
   "metadata": {},
   "outputs": [],
   "source": [
    "a = df[df['ratings_volume']>2000].sort_values(\"ratings\",ascending=False)"
   ]
  },
  {
   "cell_type": "code",
   "execution_count": 241,
   "id": "played-spread",
   "metadata": {},
   "outputs": [],
   "source": [
    "p = a.values"
   ]
  },
  {
   "cell_type": "markdown",
   "id": "through-birthday",
   "metadata": {},
   "source": [
    "# Products View Function"
   ]
  },
  {
   "cell_type": "code",
   "execution_count": 18,
   "id": "federal-allowance",
   "metadata": {},
   "outputs": [],
   "source": [
    "cnt = 0\n",
    "n = 4# pages scraping\n",
    "url = 'https://www.flipkart.com/search?q=pendrive&page=1'\n",
    "d = {'imgs':[],'ratings':[],'ratings_volume':[],'product_urls':[],'price_l':[]}\n",
    "\n",
    "def scrap(url):    \n",
    "\n",
    "    global cnt\n",
    "    response = urlopen(url)\n",
    "\n",
    "    data = response.read()\n",
    "    s_data = soup(data,'html.parser')\n",
    "    s_obj = s_data.findAll('div',{'class':'_4ddWXP'})\n",
    "    \n",
    "    \n",
    "    for i in s_obj:\n",
    "        if i.findAll('div',{'class' : '_3LWZlK'}):\n",
    "            # print(\"hello\")\n",
    "            for hit in i.findAll('div',{'class' : '_3LWZlK'}):    \n",
    "                hi = hit.text.strip()    \n",
    "                d['ratings'].append(hi)\n",
    "        else:\n",
    "            d['ratings'].append(\"0\")\n",
    "\n",
    "\n",
    "\n",
    "        p_url = i.a.attrs['href']\n",
    "        img_lk = i.img.attrs['src']\n",
    "        price = i.findAll('div',{'class':'_30jeq3'})[0].text\n",
    "        try:\n",
    "            rating_v = i.findAll('span',{'class':'_2_R_DZ'})[0].text\n",
    "            rating_v = rating_v[1:-2]\n",
    "        except:\n",
    "            rating_v = \"0\" \n",
    "        \n",
    "        d['price_l'].append(price[1:])    \n",
    "        d['imgs'].append(img_lk)\n",
    "        d['ratings_volume'].append(rating_v)\n",
    "        d['product_urls'].append(p_url)\n",
    "\n",
    "    if cnt==0:\n",
    "        cnt = len(d['imgs'])\n",
    "\n",
    "    if int(len(d['imgs'])) <= cnt*n-1: \n",
    "        l = len(d['imgs'])\n",
    "        url = f'https://www.flipkart.com/search?q=pendrive&page={(l//cnt)+1}'\n",
    "        print(\"k\")\n",
    "        scrap(url)\n",
    "\n",
    "    df = pd.DataFrame(d)\n",
    "    df['price_l'] = df['price_l'].replace(',','', regex=True)\n",
    "    df['ratings_volume'] = df['ratings_volume'].replace(',','',regex=True)\n",
    "    df.sort_values(\"ratings\",axis=0,ascending = False,inplace=True)\n",
    "    # print(df['ratings'])\n",
    "    df.reset_index(drop=True, inplace=True)\n",
    "    df['ratings'] = pd.to_numeric(df['ratings'])\n",
    "    df['ratings_volume'] = pd.to_numeric(df['ratings_volume'])\n",
    "    m = df[df['ratings_volume']>2000].sort_values(\"ratings\",ascending=False)\n",
    "    return m"
   ]
  },
  {
   "cell_type": "code",
   "execution_count": 19,
   "id": "future-papua",
   "metadata": {},
   "outputs": [
    {
     "name": "stdout",
     "output_type": "stream",
     "text": [
      "k\n",
      "k\n",
      "k\n"
     ]
    }
   ],
   "source": [
    "x = scrap(url)"
   ]
  },
  {
   "cell_type": "code",
   "execution_count": 155,
   "id": "devoted-saying",
   "metadata": {},
   "outputs": [],
   "source": [
    "class Product:\n",
    "    \n",
    "    def __init__(self,p_name,no_pages=4,r_v=2000):\n",
    "        \n",
    "        self.p_name = p_name\n",
    "        self.n = no_pages\n",
    "        self.url = f'https://www.flipkart.com/search?q={self.p_name}&page=1'\n",
    "        self.d = {'imgs':[],'ratings':[],'ratings_volume':[],'product_urls':[],'price_l':[]}\n",
    "        self.cnt = 0\n",
    "        self.r_v = r_v\n",
    "        \n",
    "    def get(self):\n",
    "        \n",
    "        response = urlopen(self.url)\n",
    "        data = response.read()\n",
    "        s_data = soup(data,'html.parser')\n",
    "        s_obj = s_data.findAll('div',{'class':'_4ddWXP'})\n",
    "        \n",
    "        for i in s_obj:\n",
    "            \n",
    "            if i.findAll('div',{'class' : '_3LWZlK'}):\n",
    "                for hit in i.findAll('div',{'class' : '_3LWZlK'}):    \n",
    "                    hi = hit.text.strip()    \n",
    "                    self.d['ratings'].append(hi)\n",
    "                    \n",
    "            else:\n",
    "                self.d['ratings'].append(\"0\")\n",
    "            \n",
    "            p_url = i.a.attrs['href']\n",
    "            img_lk = i.img.attrs['src']\n",
    "            price = i.findAll('div',{'class':'_30jeq3'})[0].text\n",
    "            \n",
    "            try:\n",
    "                rating_v = i.findAll('span',{'class':'_2_R_DZ'})[0].text\n",
    "                rating_v = rating_v[1:-2]\n",
    "            except:\n",
    "                rating_v = \"0\" \n",
    "        \n",
    "            self.d['price_l'].append(price[1:])   \n",
    "            self.d['imgs'].append(img_lk)\n",
    "            self.d['ratings_volume'].append(rating_v)\n",
    "            self.d['product_urls'].append(p_url)\n",
    "        \n",
    "        if self.cnt==0:\n",
    "            self.cnt = len(self.d['imgs'])\n",
    "\n",
    "        if int(len(self.d['imgs'])) <= self.cnt*self.n-1: \n",
    "            l = len(self.d['imgs'])\n",
    "            self.url = f'https://www.flipkart.com/search?q={self.p_name}&page={(l//self.cnt)+1}'\n",
    "            self.get()\n",
    "            \n",
    "        df = pd.DataFrame(self.d)\n",
    "        df['price_l'] = df['price_l'].replace(',','', regex=True)\n",
    "        \n",
    "        df['ratings_volume'] = df['ratings_volume'].replace(',','',regex=True)\n",
    "        df.sort_values(\"ratings\",axis=0,ascending = False,inplace=True)\n",
    "        df.reset_index(drop=True, inplace=True)\n",
    "        df['ratings'] = pd.to_numeric(df['ratings'])\n",
    "        df['ratings_volume'] = pd.to_numeric(df['ratings_volume'])\n",
    "        m = df[df['ratings_volume']>self.r_v].sort_values(\"ratings\",ascending=False)\n",
    "        m = m.values\n",
    "        return m"
   ]
  },
  {
   "cell_type": "code",
   "execution_count": 156,
   "id": "durable-annotation",
   "metadata": {},
   "outputs": [],
   "source": [
    "p = Product(\"pendrive\",2)"
   ]
  },
  {
   "cell_type": "code",
   "execution_count": 157,
   "id": "still-dryer",
   "metadata": {},
   "outputs": [],
   "source": [
    "x = p.get() "
   ]
  },
  {
   "cell_type": "code",
   "execution_count": 158,
   "id": "incredible-victory",
   "metadata": {},
   "outputs": [
    {
     "name": "stdout",
     "output_type": "stream",
     "text": [
      "9\n"
     ]
    }
   ],
   "source": [
    "print(len(x))"
   ]
  },
  {
   "cell_type": "code",
   "execution_count": 159,
   "id": "apparent-warrior",
   "metadata": {},
   "outputs": [],
   "source": [
    "p_url = \"https://www.flipkart.com\"\n",
    "products = p_url+x[:,3]"
   ]
  },
  {
   "cell_type": "code",
   "execution_count": 160,
   "id": "improved-discretion",
   "metadata": {},
   "outputs": [
    {
     "data": {
      "text/plain": [
       "array(['https://www.flipkart.com/sandisk-sddd3-064g-i35gw-64-gb-otg-drive/p/itmf3qy9sbfamhmz?pid=ACCFFXARKRGZJMMF&lid=LSTACCFFXARKRGZJMMFV9SDEJ&marketplace=FLIPKART&q=pendrive&store=6bo%2Fjdy%2Fuar&srno=s_1_40&otracker=search&fm=organic&iid=8890706b-533c-48b5-b5a0-184f206d958e.ACCFFXARKRGZJMMF.SEARCH&ppt=None&ppn=None&ssid=1uscun224w0000001623518297751&qH=ce1d35e50180f44f',\n",
       "       'https://www.flipkart.com/sandisk-cruzer-blade-16-gb-utility-pendrive/p/itmf6vyqugk3g8gn?pid=ACCCWPADYYFEJ7ZG&lid=LSTACCCWPADYYFEJ7ZGVPPMRL&marketplace=FLIPKART&q=pendrive&store=6bo%2Fjdy%2Fuar&srno=s_2_57&otracker=search&fm=organic&iid=9ece0dce-8ae0-439b-bd72-31e3183cca6e.ACCCWPADYYFEJ7ZG.SEARCH&ppt=None&ppn=None&ssid=rb0wogprts0000001623518303439&qH=ce1d35e50180f44f',\n",
       "       'https://www.flipkart.com/hp-x740w-metal-usb-3-0-3-1-flash-drive-32-gb-pen/p/itm9fdb3c656dba8?pid=ACCF48HMFFEJB3HW&lid=LSTACCF48HMFFEJB3HWBCGTV3&marketplace=FLIPKART&q=pendrive&store=6bo%2Fjdy%2Fuar&srno=s_2_65&otracker=search&fm=organic&iid=9ece0dce-8ae0-439b-bd72-31e3183cca6e.ACCF48HMFFEJB3HW.SEARCH&ppt=None&ppn=None&ssid=rb0wogprts0000001623518303439&qH=ce1d35e50180f44f',\n",
       "       'https://www.flipkart.com/sandisk-sddd3-032g-i35gw-32-gb-otg-drive/p/itmf3qyarceufnv2?pid=ACCFFXAR8GYH7GTY&lid=LSTACCFFXAR8GYH7GTYQ9N3GP&marketplace=FLIPKART&q=pendrive&store=6bo%2Fjdy%2Fuar&srno=s_1_30&otracker=search&fm=organic&iid=8890706b-533c-48b5-b5a0-184f206d958e.ACCFFXAR8GYH7GTY.SEARCH&ppt=None&ppn=None&ssid=1uscun224w0000001623518297751&qH=ce1d35e50180f44f',\n",
       "       'https://www.flipkart.com/sandisk-ultra-dual-sddd3-064g-i35-64-gb-otg-drive/p/itmf3yzykdzrrz5m?pid=ACCENUZAEYTH8U7S&lid=LSTACCENUZAEYTH8U7SCSQK0T&marketplace=FLIPKART&q=pendrive&store=6bo%2Fjdy%2Fuar&srno=s_1_11&otracker=search&fm=organic&iid=8890706b-533c-48b5-b5a0-184f206d958e.ACCENUZAEYTH8U7S.SEARCH&ppt=None&ppn=None&ssid=1uscun224w0000001623518297751&qH=ce1d35e50180f44f',\n",
       "       'https://www.flipkart.com/sandisk-ultra-dual-drive-m3-0-32-gb-otg/p/itmffpavt4rpuyyw?pid=ACCENUZA28X2PQ4G&lid=LSTACCENUZA28X2PQ4GQOXJMV&marketplace=FLIPKART&q=pendrive&store=6bo%2Fjdy%2Fuar&srno=s_1_9&otracker=search&fm=organic&iid=8890706b-533c-48b5-b5a0-184f206d958e.ACCENUZA28X2PQ4G.SEARCH&ppt=None&ppn=None&ssid=1uscun224w0000001623518297751&qH=ce1d35e50180f44f',\n",
       "       'https://www.flipkart.com/sandisk-cruzer-blade-32-gb/p/itmf3qyay3ewrwnu?pid=ACCD9XW3YU6VYCYS&lid=LSTACCD9XW3YU6VYCYSV27TUV&marketplace=FLIPKART&q=pendrive&store=6bo%2Fjdy%2Fuar&srno=s_1_4&otracker=search&fm=organic&iid=8890706b-533c-48b5-b5a0-184f206d958e.ACCD9XW3YU6VYCYS.SEARCH&ppt=None&ppn=None&ssid=1uscun224w0000001623518297751&qH=ce1d35e50180f44f',\n",
       "       'https://www.flipkart.com/hp-v236w-32-gb-pen-drive/p/itmf3qy9ygdb8zua?pid=ACCEMA5FGTK2YZXV&lid=LSTACCEMA5FGTK2YZXV7QTJQE&marketplace=FLIPKART&q=pendrive&store=6bo%2Fjdy%2Fuar&spotlightTagId=BestvalueId_6bo%2Fjdy%2Fuar&srno=s_1_5&otracker=search&fm=organic&iid=8890706b-533c-48b5-b5a0-184f206d958e.ACCEMA5FGTK2YZXV.SEARCH&ppt=None&ppn=None&ssid=1uscun224w0000001623518297751&qH=ce1d35e50180f44f',\n",
       "       'https://www.flipkart.com/sandisk-sdcz50-064g-i35-sdcz50-064g-b35-64-gb-pen-drive/p/itmf3qyaaqr5azmn?pid=ACCDZ583WDDSDY3F&lid=LSTACCDZ583WDDSDY3F3ITXX5&marketplace=FLIPKART&q=pendrive&store=6bo%2Fjdy%2Fuar&srno=s_1_3&otracker=search&fm=organic&iid=8890706b-533c-48b5-b5a0-184f206d958e.ACCDZ583WDDSDY3F.SEARCH&ppt=None&ppn=None&ssid=1uscun224w0000001623518297751&qH=ce1d35e50180f44f'],\n",
       "      dtype=object)"
      ]
     },
     "execution_count": 160,
     "metadata": {},
     "output_type": "execute_result"
    }
   ],
   "source": [
    "products\n"
   ]
  },
  {
   "cell_type": "code",
   "execution_count": null,
   "id": "dressed-hartford",
   "metadata": {},
   "outputs": [],
   "source": []
  }
 ],
 "metadata": {
  "kernelspec": {
   "display_name": "Python 3",
   "language": "python",
   "name": "python3"
  },
  "language_info": {
   "codemirror_mode": {
    "name": "ipython",
    "version": 3
   },
   "file_extension": ".py",
   "mimetype": "text/x-python",
   "name": "python",
   "nbconvert_exporter": "python",
   "pygments_lexer": "ipython3",
   "version": "3.9.2"
  }
 },
 "nbformat": 4,
 "nbformat_minor": 5
}
