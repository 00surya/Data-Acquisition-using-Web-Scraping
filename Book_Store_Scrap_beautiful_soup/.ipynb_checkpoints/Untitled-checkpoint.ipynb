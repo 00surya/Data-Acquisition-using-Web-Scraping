{
 "cells": [
  {
   "cell_type": "code",
   "execution_count": 170,
   "id": "legitimate-excellence",
   "metadata": {},
   "outputs": [],
   "source": [
    "from urllib.request import urlopen\n",
    "from bs4 import BeautifulSoup as soup"
   ]
  },
  {
   "cell_type": "code",
   "execution_count": 171,
   "id": "wrapped-accreditation",
   "metadata": {},
   "outputs": [],
   "source": [
    "def get_img(no_pages,product):\n",
    "    images = []\n",
    "    url = \"https://www.flipkart.com/search?q=\"\n",
    "    for i in range(no_pages):\n",
    "        new_url = f\"{url}{product}&page={i+1}\"\n",
    "        response = urlopen(new_url)\n",
    "        data = response.read()\n",
    "        f_data = soup(data,'html.parser')\n",
    "        f_obj = f_data.findAll('img')\n",
    "        for ix in f_obj:\n",
    "            filter = ix.attrs['src'].split(\"-\")\n",
    "            if '//static' not in ix.attrs['src'].split(\"-\") and len(filter[0])<200:\n",
    "                images.append(ix.attrs['src'])\n",
    "        print(f\"Page-{i+1} Scrapped\")\n",
    "    return images\n",
    "        "
   ]
  },
  {
   "cell_type": "code",
   "execution_count": 176,
   "id": "potential-complex",
   "metadata": {},
   "outputs": [
    {
     "name": "stdout",
     "output_type": "stream",
     "text": [
      "Page-1 Scrapped\n",
      "Page-2 Scrapped\n"
     ]
    }
   ],
   "source": [
    "scraped_images = get_img(2,'pen')"
   ]
  },
  {
   "cell_type": "code",
   "execution_count": 177,
   "id": "tutorial-prince",
   "metadata": {
    "scrolled": true
   },
   "outputs": [
    {
     "data": {
      "text/plain": [
       "['https://rukminim1.flixcart.com/image/612/612/k0y6cnk0/pen/2/g/z/pilot-9000014709-9000014709-original-imafkmubzq5fvpgs.jpeg?q=70',\n",
       " 'https://rukminim1.flixcart.com/image/612/612/kmmcrrk0/pen/4/t/u/vector-camouflage-gift-set-roller-ball-pen-free-keychain-parker-original-imagfhg8ktgedfe5.jpeg?q=70',\n",
       " 'https://rukminim1.flixcart.com/image/612/612/khkvukw0-0/pen/6/s/c/8901765126245-hauser-original-imafxkck3g75whwf.jpeg?q=70',\n",
       " 'https://rukminim1.flixcart.com/image/612/612/jl41nrk0/pen/z/g/4/cello-cel1008538-original-imaf8bcznputgy6z.jpeg?q=70',\n",
       " 'https://rukminim1.flixcart.com/image/612/612/ktuewsw0/pen/x/w/j/2158239-reynolds-original-imag73htgzanv67n.jpeg?q=70',\n",
       " 'https://rukminim1.flixcart.com/image/612/612/kmmcrrk0/pen/n/z/f/8901765144669-flair-original-imagfhgfxebhyw9a.jpeg?q=70',\n",
       " 'https://rukminim1.flixcart.com/image/612/612/ktuewsw0/pen/d/2/t/2156768-reynolds-original-imag73htefvtgspp.jpeg?q=70',\n",
       " 'https://rukminim1.flixcart.com/image/612/612/jb13te80/pen/x/u/r/parker-9000015535-9000020634-original-imaeubvrkaqhpmee.jpeg?q=70',\n",
       " 'https://rukminim1.flixcart.com/image/612/612/k0y6cnk0/pen/f/h/c/nataraj-classic-glow-mist-original-imafkmwpmjhd4ufw.jpeg?q=70',\n",
       " 'https://rukminim1.flixcart.com/image/612/612/ka2tmkw0/pen/c/j/e/classmate-4030098-original-imafrq6jyuyhhryn.jpeg?q=70',\n",
       " 'https://rukminim1.flixcart.com/image/612/612/k5wse4w0/pen/f/s/t/cello-cel1011180-original-imafzhf3qnjfzmya.jpeg?q=70',\n",
       " 'https://rukminim1.flixcart.com/image/612/612/kfyasnk0/pen/p/g/q/parker-9000030144-original-imafwassmykw8cph.jpeg?q=70',\n",
       " 'https://rukminim1.flixcart.com/image/612/612/kbdz5ow0/pen/a/r/q/parker-9000017268-9000017268-original-imafsqxhwqwkxnxy.jpeg?q=70',\n",
       " 'https://rukminim1.flixcart.com/image/612/612/k12go7k0/pen/v/p/w/cello-cel1000473-original-imafkqcqjgrfvhwq.jpeg?q=70',\n",
       " 'https://rukminim1.flixcart.com/image/612/612/ku1k4280/pen/y/s/c/4030186-classmate-original-imag78yghkqchxdk.jpeg?q=70',\n",
       " 'https://rukminim1.flixcart.com/image/612/612/k37mg7k0/pen/w/e/6/luxor-9000028003-original-imafme6kqymph8mx.jpeg?q=70',\n",
       " 'https://rukminim1.flixcart.com/image/612/612/kiqbma80-0/pen/m/y/s/cel1008858-cello-original-imafyg6ygf4jz3zz.jpeg?q=70',\n",
       " 'https://rukminim1.flixcart.com/image/612/612/ktuewsw0/pen/l/q/4/2156819-reynolds-original-imag73htetcggehm.jpeg?q=70',\n",
       " 'https://rukminim1.flixcart.com/image/612/612/ku1k4280/pen/u/z/4/4030038-classmate-original-imag78ygk772zb2m.jpeg?q=70',\n",
       " 'https://rukminim1.flixcart.com/image/612/612/kql8sy80/pen/p/l/t/3410-doms-original-imag4kmtndsxvs2x.jpeg?q=70',\n",
       " 'https://rukminim1.flixcart.com/image/612/612/kolsscw0/pen/o/5/q/9000016330-parker-original-imag3ysyuetrbjgh.jpeg?q=70',\n",
       " 'https://rukminim1.flixcart.com/image/612/612/ke8uv0w0/pen/v/q/y/flair-8-90e-12-original-imafuyutqzyqxjas.jpeg?q=70',\n",
       " 'https://rukminim1.flixcart.com/image/612/612/jx257680/pen/n/f/r/cello-cel1002402-original-imaf8dd3gsb5bre5.jpeg?q=70',\n",
       " 'https://rukminim1.flixcart.com/image/612/612/j34r6vk0/pen/u/3/y/parker-9000014402-9000020642-original-imaeubvrrwm3yyge.jpeg?q=70',\n",
       " 'https://rukminim1.flixcart.com/image/612/612/k37mg7k0/pen/r/p/d/luxor-9000027998-original-imafme6kbvvw7vf4.jpeg?q=70',\n",
       " 'https://rukminim1.flixcart.com/image/612/612/kn7sdjk0/pen/c/4/r/linc-blue-ink-ball-point-pen-pentonic-original-imagfyyyb7nvhgfn.jpeg?q=70',\n",
       " 'https://rukminim1.flixcart.com/image/612/612/kfbfr0w0/pen/z/7/2/cello-cel1009423-original-imafvt44mkguhkcg.jpeg?q=70',\n",
       " 'https://rukminim1.flixcart.com/image/612/612/kg5fzww0/pen/d/z/w/parker-9000030137-original-imafwgdevmswfcjx.jpeg?q=70',\n",
       " 'https://rukminim1.flixcart.com/image/612/612/kf4ajrk0/pen/6/k/t/flair-8901765144683-original-imafvnp4577mmemz.jpeg?q=70',\n",
       " 'https://rukminim1.flixcart.com/image/612/612/kjom6q80/pen/p/x/q/pentonic-lnptvrtp10bl-original-imafz7ff5xbwpyvf.jpeg?q=70',\n",
       " 'https://rukminim1.flixcart.com/image/612/612/kf2v3ww0/pen/d/h/g/flair-8901765144690-original-imafvhhbjvjt7aye.jpeg?q=70',\n",
       " 'https://rukminim1.flixcart.com/image/612/612/kfzq8i80/pen/p/g/b/parker-9000023617-original-imafwcffhythtahc.jpeg?q=70',\n",
       " 'https://rukminim1.flixcart.com/image/612/612/kfyasnk0/pen/9/j/j/parker-9000030136-original-imafwasp8c43gq3c.jpeg?q=70',\n",
       " 'https://rukminim1.flixcart.com/image/612/612/kfzq8i80/pen/x/n/s/pilot-9000030091-original-imafwc5tbgzkbbwx.jpeg?q=70',\n",
       " 'https://rukminim1.flixcart.com/image/612/612/k1i6ikw0/pen/j/6/s/classmate-4030210-original-imafh2exd3gpujgh.jpeg?q=70',\n",
       " 'https://rukminim1.flixcart.com/image/612/612/kbdz5ow0/pen/2/z/w/parker-9000013839-9000013839-original-imafsqxhgdg9kquh.jpeg?q=70',\n",
       " 'https://rukminim1.flixcart.com/image/612/612/jhp5si80/pen/x/h/j/parker-9000023618-original-imaf5nrfdp3vxgze.jpeg?q=70',\n",
       " 'https://rukminim1.flixcart.com/image/612/612/jjiw1ow0/pen/p/w/9/cello-cel1006381-original-imaf739ay4vbamsz.jpeg?q=70',\n",
       " 'https://rukminim1.flixcart.com/image/612/612/keiuxzk0/pen/a/f/s/cello-cel1011566-original-imafv6tx6djpcjsf.jpeg?q=70',\n",
       " 'https://rukminim1.flixcart.com/image/612/612/kg5fzww0/pen/g/r/y/parker-9000030140-original-imafwgdff5pewf53.jpeg?q=70',\n",
       " 'https://rukminim1.flixcart.com/image/612/612/ka2tmkw0/pen/n/9/t/classmate-4030198-original-imafrq6jzeaqucra.jpeg?q=70',\n",
       " 'https://rukminim1.flixcart.com/image/612/612/k6i7zww0/pen/h/6/t/cello-cel1010087-original-imafzyfwfh72xukx.jpeg?q=70',\n",
       " 'https://rukminim1.flixcart.com/image/612/612/krz97rk0/pen/z/z/q/8901765119827-hauser-original-imag5mzhfvjjzwhs.jpeg?q=70',\n",
       " 'https://rukminim1.flixcart.com/image/612/612/kmmcrrk0/pen/4/t/u/vector-camouflage-gift-set-roller-ball-pen-free-keychain-parker-original-imagfhg8ktgedfe5.jpeg?q=70',\n",
       " 'https://rukminim1.flixcart.com/image/612/612/kst9gnk0/pen/c/z/t/8901765119940-flair-original-imag6aw3qkrm5zds.jpeg?q=70',\n",
       " 'https://rukminim1.flixcart.com/image/612/612/keiuxzk0/pen/6/8/b/cello-cel1011663-original-imafv6txzyynhcft.jpeg?q=70',\n",
       " 'https://rukminim1.flixcart.com/image/612/612/kctf0cw0/pen/x/r/2/cello-cel1010941-original-imaftvy6qv82mhyz.jpeg?q=70',\n",
       " 'https://rukminim1.flixcart.com/image/612/612/k0y6cnk0/pen/2/g/z/pilot-9000014709-9000014709-original-imafkmubzq5fvpgs.jpeg?q=70',\n",
       " 'https://rukminim1.flixcart.com/image/612/612/k1118cw0/pen/h/h/h/nataraj-classic-ball-pens-20-pc-original-imafkpa22f2c746v.jpeg?q=70',\n",
       " 'https://rukminim1.flixcart.com/image/612/612/kgcl7680/pen/b/h/n/flair-8901765144089-original-imafwh5ctmgwt2we.jpeg?q=70',\n",
       " 'https://rukminim1.flixcart.com/image/612/612/kfzq8i80/pen/n/v/s/luxor-9000029728-original-imafwc5ujrgjzcrg.jpeg?q=70',\n",
       " 'https://rukminim1.flixcart.com/image/612/612/jb13te80/pen/x/u/r/parker-9000015535-9000020634-original-imaeubvrkaqhpmee.jpeg?q=70',\n",
       " 'https://rukminim1.flixcart.com/image/612/612/k4a7c7k0/pen/v/6/t/luxor-9000025515-original-imafn7sh7dygkw6x.jpeg?q=70',\n",
       " 'https://rukminim1.flixcart.com/image/612/612/jjylw280/pen/v/e/g/parker-9000025796-original-imaf7feqtbz4vqwg.jpeg?q=70',\n",
       " 'https://rukminim1.flixcart.com/image/612/612/k4x2du80/pen/g/6/h/cello-cel1009422-original-imafnpzatfydjbqj.jpeg?q=70',\n",
       " 'https://rukminim1.flixcart.com/image/612/612/kfyasnk0/pen/p/g/q/parker-9000030144-original-imafwassmykw8cph.jpeg?q=70',\n",
       " 'https://rukminim1.flixcart.com/image/612/612/ku8pbbk0/pen/6/c/q/cel1012097-cello-original-imag7eu9dcqsw9fv.jpeg?q=70',\n",
       " 'https://rukminim1.flixcart.com/image/612/612/ktvucnk0/pen/i/m/l/8901765126399-hauser-original-imag74mv9yaybe2t.jpeg?q=70',\n",
       " 'https://rukminim1.flixcart.com/image/612/612/jziqhzk0/pen/f/n/5/cello-cel1000822-original-imafjgh9qzazbhjq.jpeg?q=70',\n",
       " 'https://rukminim1.flixcart.com/image/612/612/k37mg7k0/pen/w/e/6/luxor-9000028003-original-imafme6kqymph8mx.jpeg?q=70',\n",
       " 'https://rukminim1.flixcart.com/image/612/612/ks99aq80/pen/s/o/n/8446-doms-original-imag5uxt7uyrpdxh.jpeg?q=70',\n",
       " 'https://rukminim1.flixcart.com/image/612/612/ktvucnk0/pen/a/q/d/8901765119834-hauser-original-imag74mv7c9wtzfg.jpeg?q=70',\n",
       " 'https://rukminim1.flixcart.com/image/612/612/kex5ci80/pen/f/7/y/cello-cel1011686-original-imafvhh3gzyugx79.jpeg?q=70',\n",
       " 'https://rukminim1.flixcart.com/image/612/612/kql8sy80/pen/p/l/t/3410-doms-original-imag4kmtndsxvs2x.jpeg?q=70',\n",
       " 'https://rukminim1.flixcart.com/image/612/612/k0r15e80/pen/j/t/h/cello-cel1008867-original-imafj5783faa5r69.jpeg?q=70',\n",
       " 'https://rukminim1.flixcart.com/image/612/612/jlcmavk0/pen/y/t/h/cello-cel1008541-original-imaf8g2zee2hscvc.jpeg?q=70',\n",
       " 'https://rukminim1.flixcart.com/image/612/612/jx257680/pen/x/h/g/cello-cel1006260-original-imafeatz4bkrzjse.jpeg?q=70',\n",
       " 'https://rukminim1.flixcart.com/image/612/612/j34r6vk0/pen/u/3/y/parker-9000014402-9000020642-original-imaeubvrrwm3yyge.jpeg?q=70',\n",
       " 'https://rukminim1.flixcart.com/image/612/612/jp1i93k0/pen/y/f/u/parker-9000012063-9000012063-original-imafbdbxngnrtckk.jpeg?q=70',\n",
       " 'https://rukminim1.flixcart.com/image/612/612/kj1r53k0-0/pen/z/a/7/8901765143846-flair-original-imafyp3j2bhmzsmq.jpeg?q=70',\n",
       " 'https://rukminim1.flixcart.com/image/612/612/k0y6cnk0/pen/t/z/9/pilot-9000014719-9000014719-original-imafkmubsw9ggafx.jpeg?q=70',\n",
       " 'https://rukminim1.flixcart.com/image/612/612/kg5fzww0/pen/d/z/w/parker-9000030137-original-imafwgdevmswfcjx.jpeg?q=70',\n",
       " 'https://rukminim1.flixcart.com/image/612/612/jpinjbk0/pen/b/c/e/pilot-9000014708-9000014708-original-imafbqzysyeh9fgm.jpeg?q=70',\n",
       " 'https://rukminim1.flixcart.com/image/612/612/ktuewsw0/pen/y/z/r/2135962-reynolds-original-imag73ht9urrfggu.jpeg?q=70',\n",
       " 'https://rukminim1.flixcart.com/image/612/612/kfmv9u80/pen/4/d/9/parker-9000025835-original-imafwfrft37ssnar.jpeg?q=70',\n",
       " 'https://rukminim1.flixcart.com/image/612/612/kbdz5ow0/pen/2/z/w/parker-9000013839-9000013839-original-imafsqxhgdg9kquh.jpeg?q=70',\n",
       " 'https://rukminim1.flixcart.com/image/612/612/k37mg7k0/pen/z/z/h/luxor-9000027990-original-imafme6kdyhnzpgx.jpeg?q=70',\n",
       " 'https://rukminim1.flixcart.com/image/612/612/jyeq64w0/pen/w/g/p/flair-8901765132505-original-imafgnq4bgy7jzg5.jpeg?q=70',\n",
       " 'https://rukminim1.flixcart.com/image/612/612/k0vbgy80/pen/d/b/c/parker-9000017255-9000017255-original-imafbdbxmzcfcsw9.jpeg?q=70',\n",
       " 'https://rukminim1.flixcart.com/image/612/612/kfzq8i80/pen/n/n/f/luxor-9000029729-original-imafwc5vsgz8djn7.jpeg?q=70']"
      ]
     },
     "execution_count": 177,
     "metadata": {},
     "output_type": "execute_result"
    }
   ],
   "source": [
    "scraped_images"
   ]
  },
  {
   "cell_type": "code",
   "execution_count": 189,
   "id": "finnish-henry",
   "metadata": {},
   "outputs": [],
   "source": [
    "websites_n = [\"unsplash.com\",\"Burst.com\",\"Pexels.com\",\"Pixabay.com\",\"Free Images.com\",\"Kaboompics.com\"\n",
    "           \"stocksnap.io\",\"Canva.com\",\"Life of Pix.com\",\"Gratisography\"]"
   ]
  },
  {
   "cell_type": "code",
   "execution_count": 190,
   "id": "hawaiian-yemen",
   "metadata": {},
   "outputs": [],
   "source": [
    "key_word = \"cat\""
   ]
  },
  {
   "cell_type": "code",
   "execution_count": 192,
   "id": "accomplished-superior",
   "metadata": {
    "scrolled": true
   },
   "outputs": [
    {
     "ename": "TypeError",
     "evalue": "'module' object is not callable",
     "output_type": "error",
     "traceback": [
      "\u001b[1;31m---------------------------------------------------------------------------\u001b[0m",
      "\u001b[1;31mTypeError\u001b[0m                                 Traceback (most recent call last)",
      "\u001b[1;32m<ipython-input-192-3268a0a201f1>\u001b[0m in \u001b[0;36m<module>\u001b[1;34m\u001b[0m\n\u001b[0;32m      1\u001b[0m \u001b[1;32mfor\u001b[0m \u001b[0mname\u001b[0m \u001b[1;32min\u001b[0m \u001b[0mwebsites_n\u001b[0m\u001b[1;33m:\u001b[0m\u001b[1;33m\u001b[0m\u001b[1;33m\u001b[0m\u001b[0m\n\u001b[1;32m----> 2\u001b[1;33m     \u001b[0mresponse\u001b[0m \u001b[1;33m=\u001b[0m \u001b[0mrequests\u001b[0m\u001b[1;33m(\u001b[0m\u001b[0mname\u001b[0m\u001b[1;33m)\u001b[0m\u001b[1;33m\u001b[0m\u001b[1;33m\u001b[0m\u001b[0m\n\u001b[0m\u001b[0;32m      3\u001b[0m     \u001b[0mprint\u001b[0m\u001b[1;33m(\u001b[0m\u001b[0mresponse\u001b[0m\u001b[1;33m)\u001b[0m\u001b[1;33m\u001b[0m\u001b[1;33m\u001b[0m\u001b[0m\n",
      "\u001b[1;31mTypeError\u001b[0m: 'module' object is not callable"
     ]
    }
   ],
   "source": [
    "for name in websites_n:\n",
    "    response = requests(name)\n",
    "    print(response)"
   ]
  },
  {
   "cell_type": "code",
   "execution_count": null,
   "id": "lightweight-vegetarian",
   "metadata": {},
   "outputs": [],
   "source": []
  }
 ],
 "metadata": {
  "kernelspec": {
   "display_name": "Python 3",
   "language": "python",
   "name": "python3"
  },
  "language_info": {
   "codemirror_mode": {
    "name": "ipython",
    "version": 3
   },
   "file_extension": ".py",
   "mimetype": "text/x-python",
   "name": "python",
   "nbconvert_exporter": "python",
   "pygments_lexer": "ipython3",
   "version": "3.9.2"
  }
 },
 "nbformat": 4,
 "nbformat_minor": 5
}
