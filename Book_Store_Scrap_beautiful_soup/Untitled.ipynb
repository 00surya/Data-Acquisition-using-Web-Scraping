{
 "cells": [
  {
   "cell_type": "code",
   "execution_count": 83,
   "id": "vocal-station",
   "metadata": {},
   "outputs": [],
   "source": [
    "from urllib.request import urlopen\n",
    "from bs4 import BeautifulSoup as soup"
   ]
  },
  {
   "cell_type": "code",
   "execution_count": 84,
   "id": "freelance-ebony",
   "metadata": {},
   "outputs": [],
   "source": [
    "def get_img(no_pages,product):\n",
    "    images = []\n",
    "    url = \"https://www.flipkart.com/search?q=\"\n",
    "    for i in range(no_pages):\n",
    "        new_url = f\"{url}{product}&page={i+1}\"\n",
    "        response = urlopen(new_url)\n",
    "        data = response.read()\n",
    "        f_data = soup(data,'html.parser')\n",
    "        f_obj = f_data.findAll('img')\n",
    "        for ix in f_obj:\n",
    "            filter = ix.attrs['src'].split(\"-\")\n",
    "            if '//static' not in ix.attrs['src'].split(\"-\") and len(filter[0])<200:\n",
    "                images.append(ix.attrs['src'])\n",
    "        print(f\"Page-{i+1} Scrapped\")\n",
    "    return images\n",
    "        "
   ]
  },
  {
   "cell_type": "code",
   "execution_count": 85,
   "id": "smart-luther",
   "metadata": {},
   "outputs": [],
   "source": [
    "# scraped_images = get_img(2,'pen')"
   ]
  },
  {
   "cell_type": "code",
   "execution_count": 86,
   "id": "partial-reader",
   "metadata": {
    "scrolled": true
   },
   "outputs": [],
   "source": [
    "# scraped_images"
   ]
  },
  {
   "cell_type": "code",
   "execution_count": 88,
   "id": "boolean-gibson",
   "metadata": {},
   "outputs": [],
   "source": [
    "import requests"
   ]
  },
  {
   "cell_type": "code",
   "execution_count": 108,
   "id": "demographic-attack",
   "metadata": {},
   "outputs": [],
   "source": [
    "websites_n = [\"unsplash.com/s/photos/\",\"kaboompics.com/gallery?search=\",\n",
    "           \"stocksnap.io/search/\",\"lifeofpix.com/search/\",\"gratisography.com/?s=\"]"
   ]
  },
  {
   "cell_type": "code",
   "execution_count": 109,
   "id": "standard-heading",
   "metadata": {},
   "outputs": [],
   "source": [
    "key_word = \"cat\""
   ]
  },
  {
   "cell_type": "code",
   "execution_count": 110,
   "id": "comfortable-feeding",
   "metadata": {},
   "outputs": [],
   "source": [
    "header = {\n",
    "    \"User-Agent\":\n",
    "    \"Mozilla/5.0 (Windows NT 10.0; Win64; x64) AppleWebKit/537.36 (KHTML, like Gecko) Chrome/70.0.3538.102 Safari/537.36 Edge/18.19582\"\n",
    "}\n",
    "\n",
    "def response(url):\n",
    "    res = requests.get(url,headers=header,timeout=5)\n",
    "    res.close()\n",
    "    return res"
   ]
  },
  {
   "cell_type": "code",
   "execution_count": 111,
   "id": "american-arizona",
   "metadata": {},
   "outputs": [],
   "source": [
    "import time"
   ]
  },
  {
   "cell_type": "code",
   "execution_count": 121,
   "id": "ecological-discovery",
   "metadata": {},
   "outputs": [],
   "source": [
    "def fetch_img(key_word):\n",
    "    http = \"https://\"\n",
    "    key_word = key_word.replace(\" \",\"\")\n",
    "    for name in websites_n:\n",
    "        url = http+name\n",
    "#         try:\n",
    "        print(url)\n",
    "        res = response(url+key_word)\n",
    "        data = res.text\n",
    "        obj = soup(data,'html.parser')\n",
    "        imgs = obj.findAll('img')\n",
    "        for i in imgs:\n",
    "            if i.attrs['src'][:5] ==\"https\":\n",
    "                print(i.attrs['src'])\n",
    "\n",
    "\n",
    "#         except:\n",
    "#             continue"
   ]
  },
  {
   "cell_type": "code",
   "execution_count": 130,
   "id": "upset-discharge",
   "metadata": {},
   "outputs": [
    {
     "name": "stdout",
     "output_type": "stream",
     "text": [
      "https://unsplash.com/s/photos/\n",
      "https://sb.scorecardresearch.com/p?c1=2&c2=32343279&cv=2.0&cj=1\n",
      "https://secure.insightexpressai.com/adServer/adServerESI.aspx?script=false&bannerID=8264527&rnd=1637239153990&gdpr=&gdpr_consent=&redir=https://secure.insightexpressai.com/adserver/1pixel.gif\n",
      "https://secure.insightexpressai.com/adServer/adServerESI.aspx?script=false&bannerID=8730480&rnd=1637239153990&redir=https://secure.insightexpressai.com/adserver/1pixel.gif\n",
      "https://secure.insightexpressai.com/adServer/adServerESI.aspx?script=false&bannerID=9252908&rnd=1637239153990&redir=https://secure.insightexpressai.com/adserver/1pixel.gif\n",
      "https://secure.insightexpressai.com/adServer/adServerESI.aspx?script=false&bannerID=8967584&rnd=1637239153990&redir=https://secure.insightexpressai.com/adserver/1pixel.gif\n",
      "https://kaboompics.com/gallery?search=\n",
      "https://kaboompics.com/uploads/assets/1a2.jpg\n",
      "https://stocksnap.io/search/\n",
      "https://image.shutterstock.com/image-photo/photo-beautiful-boho-styled-model-260nw-1306068886.jpg\n",
      "https://image.shutterstock.com/image-photo/overhead-view-travelers-accessories-essential-260nw-425996818.jpg\n",
      "https://image.shutterstock.com/image-photo/beautiful-young-woman-casual-clothing-260nw-1544535644.jpg\n",
      "https://image.shutterstock.com/image-photo/abstract-blurred-blue-silver-glittering-260nw-532523422.jpg\n",
      "https://image.shutterstock.com/image-photo/attractive-african-young-confident-businesswoman-260nw-1712082700.jpg\n",
      "https://image.shutterstock.com/image-photo/family-running-through-field-letting-260nw-570119506.jpg\n",
      "https://image.shutterstock.com/image-photo/full-concentration-work-group-young-260nw-1043501293.jpg\n",
      "https://image.shutterstock.com/image-photo/summer-lifestyle-portrait-pretty-happy-260nw-756336433.jpg\n",
      "https://image.shutterstock.com/image-photo/living-coral-color-year-2019-260nw-1250940526.jpg\n",
      "https://cdn.stocksnap.io/img/smiley.png\n",
      "https://lifeofpix.com/search/\n",
      "https://www.lifeofpix.com/wp-content/themes/lifeofpix_v2/img/lop-logo-blanc.svg\n",
      "https://www.lifeofpix.com/wp-content/themes/lifeofpix_v2/img/lop-logo-noir.svg\n",
      "https://www.lifeofpix.com/wp-content/themes/lifeofpix_v2/img/badimage.svg\n",
      "https://www.lifeofpix.com/wp-content/themes/lifeofpix_v2/img/adobe.png\n",
      "https://www.lifeofpix.com/wp-content/themes/lifeofpix_v2/img/LOV-white.svg\n",
      "https://www.lifeofpix.com/wp-content/themes/lifeofpix_v2/img/logo-IQ.svg\n",
      "https://www.lifeofpix.com/wp-content/themes/lifeofpix_v2/img/logo_leeroy.png\n",
      "https://gratisography.com/?s=\n",
      "https://gratisography.com/wp-content/themes/gratis-v3/assets/images/sstk-logo-horizontal-dark.png\n",
      "https://gratisography.com/wp-content/themes/gratis-v3/assets/images/gratisography-logo.svg\n",
      "https://image.shutterstock.com/image-photo/group-girl-boy-kids-dress-260nw-1502941658.jpg\n",
      "https://image.shutterstock.com/image-photo/photo-young-nice-cheerful-short-260nw-1427450975.jpg\n",
      "https://image.shutterstock.com/image-photo/adorable-kitten-posing-outdoors-summer-260nw-1017164380.jpg\n",
      "https://image.shutterstock.com/image-photo/chihuahua-dog-winter-clothes-overalls-260nw-1907822176.jpg\n",
      "https://image.shutterstock.com/image-photo/bearded-funny-guy-holds-pie-260nw-1441992767.jpg\n",
      "https://image.shutterstock.com/image-photo/young-jack-russell-terrier-on-260nw-1986370403.jpg\n",
      "https://image.shutterstock.com/image-photo/kids-celebration-party-happiness-concept-260nw-518654143.jpg\n",
      "https://image.shutterstock.com/image-photo/close-adorable-sad-dog-puppy-260nw-727860175.jpg\n",
      "https://image.shutterstock.com/image-photo/baby-among-hearts-kisses-red-260nw-1916086096.jpg\n",
      "https://image.shutterstock.com/image-photo/baby-bunny-hat-ears-christmas-260nw-1268950339.jpg\n",
      "https://image.shutterstock.com/image-photo/portrait-having-fun-amazing-young-260nw-650867473.jpg\n",
      "https://image.shutterstock.com/image-photo/isolated-serious-man-blue-shirt-260nw-209904775.jpg\n",
      "https://gratisography.com/wp-content/themes/gratis-v3/assets/images/shutterstock-ad-logo.png\n",
      "https://gratisography.com/wp-content/themes/gratis-v3/assets/images/Entrepreneur-38.png\n",
      "https://gratisography.com/wp-content/themes/gratis-v3/assets/images/huffpost-logo-black-small.png\n",
      "https://gratisography.com/wp-content/themes/gratis-v3/assets/images/Yahoo-logo-black-38.png\n"
     ]
    }
   ],
   "source": [
    "fetch_img(\"sharukh\")"
   ]
  },
  {
   "cell_type": "code",
   "execution_count": null,
   "id": "great-spyware",
   "metadata": {},
   "outputs": [],
   "source": []
  },
  {
   "cell_type": "code",
   "execution_count": null,
   "id": "incorporated-climate",
   "metadata": {},
   "outputs": [],
   "source": []
  }
 ],
 "metadata": {
  "kernelspec": {
   "display_name": "Python 3",
   "language": "python",
   "name": "python3"
  },
  "language_info": {
   "codemirror_mode": {
    "name": "ipython",
    "version": 3
   },
   "file_extension": ".py",
   "mimetype": "text/x-python",
   "name": "python",
   "nbconvert_exporter": "python",
   "pygments_lexer": "ipython3",
   "version": "3.9.2"
  }
 },
 "nbformat": 4,
 "nbformat_minor": 5
}
